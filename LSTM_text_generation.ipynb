{
  "nbformat": 4,
  "nbformat_minor": 0,
  "metadata": {
    "colab": {
      "provenance": [],
      "authorship_tag": "ABX9TyOLIQZWTtnwby/y92V+3b/p",
      "include_colab_link": true
    },
    "kernelspec": {
      "name": "python3",
      "display_name": "Python 3"
    },
    "language_info": {
      "name": "python"
    }
  },
  "cells": [
    {
      "cell_type": "markdown",
      "metadata": {
        "id": "view-in-github",
        "colab_type": "text"
      },
      "source": [
        "<a href=\"https://colab.research.google.com/github/sahith2004/Deep-learning-practice/blob/main/LSTM_text_generation.ipynb\" target=\"_parent\"><img src=\"https://colab.research.google.com/assets/colab-badge.svg\" alt=\"Open In Colab\"/></a>"
      ]
    },
    {
      "cell_type": "code",
      "execution_count": null,
      "metadata": {
        "id": "HZRu3ZTaelwH"
      },
      "outputs": [],
      "source": [
        "import tensorflow as tf\n",
        "import numpy as np\n",
        "\n",
        "# Load and preprocess text data\n",
        "path_to_file = 'shakespeare.txt'  # Replace with the path to your text file\n",
        "text = open(path_to_file, 'r').read()\n",
        "vocab = sorted(set(text))\n",
        "char2idx = {u: i for i, u in enumerate(vocab)}\n",
        "idx2char = np.array(vocab)\n",
        "text_as_int = np.array([char2idx[c] for c in text])\n",
        "\n"
      ]
    },
    {
      "cell_type": "code",
      "source": [
        "# Create input sequences and target sequences\n",
        "seq_length = 100\n",
        "examples_per_epoch = len(text) // (seq_length + 1)\n",
        "char_dataset = tf.data.Dataset.from_tensor_slices(text_as_int)\n",
        "sequences = char_dataset.batch(seq_length + 1, drop_remainder=True)\n",
        "\n",
        "def split_input_target(chunk):\n",
        "    input_text = chunk[:-1]\n",
        "    target_text = chunk[1:]\n",
        "    return input_text, target_text\n",
        "\n",
        "dataset = sequences.map(split_input_target)\n",
        "\n",
        "\n"
      ],
      "metadata": {
        "id": "o1xdRPuce2lZ"
      },
      "execution_count": null,
      "outputs": []
    },
    {
      "cell_type": "code",
      "source": [
        "# Create a LSTM-based model\n",
        "model = tf.keras.Sequential([\n",
        "    tf.keras.layers.Embedding(len(vocab), 256, batch_input_shape=[64, None]),\n",
        "    tf.keras.layers.LSTM(1024, return_sequences=True, stateful=True, recurrent_initializer='glorot_uniform'),\n",
        "    tf.keras.layers.Dense(len(vocab))\n",
        "])\n",
        "\n",
        "# Compile the model\n",
        "model.compile(optimizer='adam', loss='sparse_categorical_crossentropy')\n",
        "\n",
        "# Define a checkpoint callback to save model weights\n",
        "checkpoint_callback = tf.keras.callbacks.ModelCheckpoint(filepath=\"text_generation_model.h5\", save_best_only=True)\n",
        "\n",
        "# Train the model\n",
        "history = model.fit(dataset, epochs=30, callbacks=[checkpoint_callback])\n",
        "\n",
        "# Load the best model\n",
        "model.load_weights(\"text_generation_model.h5\")\n",
        "\n"
      ],
      "metadata": {
        "id": "McWQuNftfJex"
      },
      "execution_count": null,
      "outputs": []
    },
    {
      "cell_type": "code",
      "source": [
        "# Generate text\n",
        "def generate_text(model, start_string, num_generate=1000, temperature=1.0):\n",
        "    input_eval = [char2idx[s] for s in start_string]\n",
        "    input_eval = tf.expand_dims(input_eval, 0)\n",
        "    generated_text = []\n",
        "\n",
        "    model.reset_states()\n",
        "    for i in range(num_generate):\n",
        "        predictions = model(input_eval)\n",
        "        predictions = predictions / temperature\n",
        "        predicted_id = tf.random.categorical(predictions, num_samples=1)[-1, 0].numpy()\n",
        "        input_eval = tf.expand_dims([predicted_id], 0)\n",
        "        generated_text.append(idx2char[predicted_id])\n",
        "\n",
        "    return start_string + ''.join(generated_text)\n",
        "\n",
        "# Generate text using a starting prompt\n",
        "generated_text = generate_text(model, start_string=\"To be or not to be, that is the question:\")\n",
        "print(generated_text)"
      ],
      "metadata": {
        "id": "BAA67KHhfL_k"
      },
      "execution_count": null,
      "outputs": []
    }
  ]
}